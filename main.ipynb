{
 "cells": [
  {
   "cell_type": "code",
   "execution_count": 30,
   "id": "5ddf606d",
   "metadata": {},
   "outputs": [
    {
     "name": "stdout",
     "output_type": "stream",
     "text": [
      "차치구     0\n",
      "발생건수    0\n",
      "dtype: int64\n"
     ]
    }
   ],
   "source": [
    "import pandas as pd\n",
    "import warnings\n",
    "warnings.simplefilter(\"ignore\")\n",
    "\n",
    "ta = pd.read_csv('data/traffic_accident.csv')\n",
    "\n",
    "ta = ta.drop([0, 1], axis=0)\n",
    "ta = ta.drop(['자치구별(1)', '2022.1', '2022.2', '2022.3', '2022.4', '2022.5'], axis=1)\n",
    "\n",
    "ta.rename(columns={'자치구별(2)':'차치구', '2022':'발생건수'}, inplace=True)\n",
    "ta.head()\n",
    "print(ta.isnull().sum())"
   ]
  },
  {
   "cell_type": "code",
   "execution_count": 31,
   "id": "fae19481",
   "metadata": {},
   "outputs": [
    {
     "name": "stdout",
     "output_type": "stream",
     "text": [
      "   번호 과속방지턱관리번호       도로명    시도명 시군구명               소재지도로명주소 소재지지번주소 설치장소  \\\n",
      "0   1       500       탑골로  서울특별시  금천구     서울특별시 금천구 탑골로 77-2     NaN   도로   \n",
      "1   2       501       탑골로  서울특별시  금천구       서울특별시 금천구 탑골로 64     NaN   도로   \n",
      "2   3       502     탑골로8길  서울특별시  금천구     서울특별시 금천구 탑골로8길 21     NaN   도로   \n",
      "3   4       596  시흥대로147길  서울특별시  금천구  서울특별시 금천구 시흥대로147길 45     NaN   도로   \n",
      "4   5       597  시흥대로148길  서울특별시  금천구  서울특별시 금천구 시흥대로148길 21     NaN   도로   \n",
      "\n",
      "     과속방지턱재료 과속방지턱형태구분  ...  도로유형구분  규격여부    WGS84위도     WGS84경도 보차분리여부  \\\n",
      "0  아스팔트 콘크리트       원호형  ...      일반     Y  37.453350  126.917000      Y   \n",
      "1  아스팔트 콘크리트       원호형  ...      일반     Y  37.452161  126.915942      Y   \n",
      "2  아스팔트 콘크리트       원호형  ...      일반     Y  37.451083  126.914619      N   \n",
      "3  아스팔트 콘크리트       원호형  ...      일반     Y  37.473679  126.895943      Y   \n",
      "4  아스팔트 콘크리트       원호형  ...      일반     Y  37.475106  126.899968      Y   \n",
      "\n",
      "   연속형여부  과속방지턱설치연도     관리기관명      관리기관전화번호     데이터기준일자  \n",
      "0      N     2010.0  금천구청 도로과  02-2627-1819  2020-08-31  \n",
      "1      N     2010.0  금천구청 도로과  02-2627-1819  2020-08-31  \n",
      "2      N     2010.0  금천구청 도로과  02-2627-1819  2020-08-31  \n",
      "3      N     2010.0  금천구청 도로과  02-2627-1819  2020-08-31  \n",
      "4      N     2010.0  금천구청 도로과  02-2627-1819  2020-08-31  \n",
      "\n",
      "[5 rows x 23 columns]\n",
      "번호               0\n",
      "과속방지턱관리번호     6242\n",
      "도로명              0\n",
      "시도명              0\n",
      "시군구명             0\n",
      "소재지도로명주소      2115\n",
      "소재지지번주소      10223\n",
      "설치장소             0\n",
      "과속방지턱재료          0\n",
      "과속방지턱형태구분        0\n",
      "과속방지턱높이          0\n",
      "과속방지턱폭           0\n",
      "과속방지턱연장          0\n",
      "도로유형구분           0\n",
      "규격여부             0\n",
      "WGS84위도          0\n",
      "WGS84경도          0\n",
      "보차분리여부           0\n",
      "연속형여부            0\n",
      "과속방지턱설치연도    13021\n",
      "관리기관명            0\n",
      "관리기관전화번호         0\n",
      "데이터기준일자          0\n",
      "dtype: int64\n"
     ]
    }
   ],
   "source": [
    "sb = pd.read_excel('data/speed_bump.xlsx')\n",
    "print(sb.head())\n",
    "print(sb.isnull().sum())\n",
    "\n",
    "bump_counts = sb['시군구명'].value_counts().reset_index()\n",
    "bump_counts.columns = ['시군구명', '과속방지턱수']"
   ]
  },
  {
   "cell_type": "code",
   "execution_count": 32,
   "id": "80b7ed9e",
   "metadata": {},
   "outputs": [],
   "source": [
    "from scipy import stats\n",
    "merged_data = pd.merge(bump_counts, ta, left_on='시군구명', right_on='차치구')\n",
    "merged_data['발생건수'] = pd.to_numeric(merged_data['발생건수'], errors='coerce')"
   ]
  },
  {
   "cell_type": "code",
   "execution_count": 33,
   "id": "81842b0e",
   "metadata": {},
   "outputs": [],
   "source": [
    "median_accidents = merged_data['발생건수'].median()\n",
    "high_accident_areas = merged_data[merged_data['발생건수'] > median_accidents]['과속방지턱수']\n",
    "low_accident_areas = merged_data[merged_data['발생건수'] <= median_accidents]['과속방지턱수']"
   ]
  },
  {
   "cell_type": "code",
   "execution_count": 34,
   "id": "a5cf36ec",
   "metadata": {},
   "outputs": [
    {
     "name": "stdout",
     "output_type": "stream",
     "text": [
      "두 그룹 모두 정규 분포를 따름\n"
     ]
    }
   ],
   "source": [
    "_, p_high = stats.shapiro(high_accident_areas)\n",
    "_, p_low = stats.shapiro(low_accident_areas)\n",
    "\n",
    "if p_high > 0.05 and p_low > 0.05:\n",
    "    print(\"두 그룹 모두 정규 분포를 따름\")\n",
    "else:\n",
    "    print(\"그룹 중 하나 또는 둘 다 정규 분포를 따르지 않음.\")"
   ]
  },
  {
   "cell_type": "code",
   "execution_count": 35,
   "id": "a0a9ab4f",
   "metadata": {},
   "outputs": [
    {
     "name": "stdout",
     "output_type": "stream",
     "text": [
      "두 그룹의 분산이 동일함\n"
     ]
    }
   ],
   "source": [
    "_, p_levene = stats.levene(high_accident_areas, low_accident_areas)\n",
    "\n",
    "if p_levene > 0.05:\n",
    "    print(\"두 그룹의 분산이 동일함\")\n",
    "else:\n",
    "    print(\"T두 그룹의 분산이 동일 하지 않음\")\n"
   ]
  },
  {
   "cell_type": "code",
   "execution_count": 41,
   "id": "77019b73",
   "metadata": {},
   "outputs": [
    {
     "name": "stdout",
     "output_type": "stream",
     "text": [
      "T-statistic: 0.7665568867071915\n",
      "P-value: 0.4545073067016989\n"
     ]
    }
   ],
   "source": [
    "t_stat, p_val = stats.ttest_ind(high_accident_areas, low_accident_areas, equal_var=(p_levene > 0.05))\n",
    "\n",
    "print(f'T-statistic: {t_stat}')\n",
    "print(f'P-value: {p_val}')"
   ]
  },
  {
   "cell_type": "code",
   "execution_count": null,
   "id": "2a99fc21",
   "metadata": {},
   "outputs": [],
   "source": []
  }
 ],
 "metadata": {
  "kernelspec": {
   "display_name": "Python 3 (ipykernel)",
   "language": "python",
   "name": "python3"
  },
  "language_info": {
   "codemirror_mode": {
    "name": "ipython",
    "version": 3
   },
   "file_extension": ".py",
   "mimetype": "text/x-python",
   "name": "python",
   "nbconvert_exporter": "python",
   "pygments_lexer": "ipython3",
   "version": "3.11.5"
  }
 },
 "nbformat": 4,
 "nbformat_minor": 5
}
